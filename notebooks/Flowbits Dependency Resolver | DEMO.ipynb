{
 "cells": [
  {
   "cell_type": "code",
   "execution_count": 140,
   "id": "8071cac6",
   "metadata": {},
   "outputs": [],
   "source": [
    "import sys\n",
    "sys.path.append('venv/lib/python3.12/site-packages/')"
   ]
  },
  {
   "cell_type": "code",
   "execution_count": 141,
   "id": "11ae03c8",
   "metadata": {},
   "outputs": [],
   "source": [
    "import networkx as nx\n",
    "import matplotlib.pyplot as plt\n",
    "import itertools"
   ]
  },
  {
   "cell_type": "code",
   "execution_count": 202,
   "id": "cf10b910",
   "metadata": {},
   "outputs": [
    {
     "data": {
      "image/png": "[encoded data removed]",
      "text/plain": [
       "<Figure size 640x480 with 1 Axes>"
      ]
     },
     "metadata": {},
     "output_type": "display_data"
    }
   ],
   "source": [
    "# Assumption is that we're dealing only with flowbits that have read + write operations in them at this point\n",
    "\n",
    "# Step 3 of the solution\n",
    "# Create a directed graph\n",
    "G = nx.DiGraph()\n",
    "\n",
    "sigs = []\n",
    "\n",
    "# Dataset with cyclic dependencies present\n",
    "sigs = [\n",
    "    # Node types available: Signature (0), Flowbit (1)\n",
    "    # Flowbit cmds available: 0 (READ), 1 (WRITE)\n",
    "    # Format is: sig number, node type, [flowbit number, node type, cmd] * number of flowbits in that signature\n",
    "    # sid:2; flowbits:isset,fb1; flowbits:set,fb2;\n",
    "    [(2, 0), (1, 1, 0), (2, 1, 1)],\n",
    "    # sid:3; flowbits:isset,fb4; flowbits:set,fb3;\n",
    "    [(3, 0), (4, 1, 0), (3, 1, 1)],\n",
    "    # sid:4; flowbits:isset,fb3; flowbits:set,fb4;\n",
    "    [(4, 0), (3, 1, 0), (4, 1, 1)],\n",
    "]\n",
    "\n",
    "# Simple Dataset without any complex dependencies present\n",
    "# sigs = [\n",
    "#     # Node types available: Signature (0), Flowbit (1)\n",
    "#     # Flowbit cmds available: 0 (READ), 1 (WRITE)\n",
    "#     # Format is: sig number, node type, [flowbit number, node type, cmd] * number of flowbits in that signature\n",
    "#     # sid:2; flowbits:isset,fb1; flowbits:set,fb2;\n",
    "#     [(2, 0), (1, 1, 0), (2, 1, 1)],\n",
    "#     # sid:3; flowbits:isset,fb2; flowbits:set,fb3;\n",
    "#     [(3, 0), (2, 1, 0), (3, 1, 1)],\n",
    "#     # sid:4; flowbits:isset,fb3; flowbits:set,fb4;\n",
    "#     [(4, 0), (3, 1, 0), (4, 1, 1)],\n",
    "# ]\n",
    "\n",
    "# Dataset with complex dependencies present\n",
    "# sigs = [\n",
    "#     # Node types available: Signature (0), Flowbit (1)\n",
    "#     # Flowbit cmds available: 0 (READ), 1 (WRITE)\n",
    "#     # Format is: sig number, node type, [flowbit number, node type, cmd] * number of flowbits in that signature\n",
    "#     # sid:2; flowbits:isset,fb1; flowbits:set,fb2;\n",
    "#     [(2, 0), (1, 1, 0), (2, 1, 1)],\n",
    "#     # sid:3; flowbits:isset,fb3; flowbits:set,fb1;\n",
    "#     [(3, 0), (3, 1, 0), (1, 1, 1)],\n",
    "#     # sid:4; flowbits:set,fb4; flowbits:isset,fb2;\n",
    "#     [(4, 0), (4, 1, 1), (2, 1, 0)],\n",
    "# ]\n",
    "\n",
    "# Dataset without complex dependencies but disjointed graphs\n",
    "# sigs = [\n",
    "#     # Node types available: Signature (0), Flowbit (1)\n",
    "#     # Flowbit cmds available: 0 (READ), 1 (WRITE)\n",
    "#     # Format is: sig number, node type, [flowbit number, node type, cmd] * number of flowbits in that signature\n",
    "#     # sid:2; flowbits:isset,fb1; flowbits:set,fb2;\n",
    "#     [(2, 0), (1, 1, 0), (2, 1, 1)],\n",
    "#     # sid:3; flowbits:isset,fb2; flowbits:set,fb3;\n",
    "#     [(3, 0), (2, 1, 0), (3, 1, 1)],\n",
    "#     # sid:4; flowbits:isset,fb5; flowbits:set,fb4;\n",
    "#     [(4, 0), (5, 1, 0), (4, 1, 1)],\n",
    "#     # sid:5; flowbits:isset,fb4; flowbits:set,fb7;\n",
    "#     [(5, 0), (4, 1, 0), (7, 1, 1)],\n",
    "# ]\n",
    "\n",
    "for sig in sigs:\n",
    "    s = ()\n",
    "    for nd in sig:\n",
    "        if nd[1] == 0: # it's a signature type node\n",
    "            assert len(nd) == 2\n",
    "            s = nd\n",
    "            G.add_node(nd)\n",
    "        elif nd[1] == 1: # it's a flowbit type node\n",
    "            assert len(nd) == 3\n",
    "            node = (nd[0], nd[1])\n",
    "            G.add_node(node)\n",
    "            if nd[2] == 1: # it's a read command\n",
    "                G.add_edge(s, node) # edge goes from signature to the flowbit object\n",
    "            else:\n",
    "                assert nd[2] == 0 # shouldn't have any other states than READ or WRITE\n",
    "                G.add_edge(node, s) # edge goes from flowbit to signature indicating flowbit is dependent on this signature\n",
    "        else:\n",
    "             assert \"Incorrect type provided\" \n",
    "                \n",
    "nx.draw_networkx(G, with_labels = True, node_size = 1000)\n",
    "plt.show()"
   ]
  },
  {
   "cell_type": "code",
   "execution_count": 203,
   "id": "403f46c6",
   "metadata": {},
   "outputs": [
    {
     "data": {
      "image/png": "[encoded data removed]",
      "text/plain": [
       "<Figure size 640x480 with 1 Axes>"
      ]
     },
     "metadata": {},
     "output_type": "display_data"
    }
   ],
   "source": [
    "# Step 4 of the solution\n",
    "# Normalize the graph to remove the flowbit nodes\n",
    "\n",
    "nodes = list(G.nodes())\n",
    "\n",
    "for node in nodes:\n",
    "    if node[1] == 1: # it's a flowbit!\n",
    "#        print(\"NODE: \" + str(node))\n",
    "        in_edges = list(G.in_edges(node))\n",
    "        out_edges = list(G.out_edges(node))\n",
    "        if len(in_edges) > 0:\n",
    "            in_edges = [n for n in in_edges[0] if n != node]\n",
    "#            print(\"IN: \" + str(in_edges))\n",
    "        if len(out_edges) > 0:\n",
    "            out_edges = [n for n in out_edges[0] if n != node]\n",
    "#            print(\"OUT: \" + str(out_edges))\n",
    "        map_new_edges = list(itertools.product(in_edges, out_edges)) # Create a map of in and out edges\n",
    "#        print(map_new_edges)\n",
    "        for edge in map_new_edges:\n",
    "            G.add_edge(edge[0], edge[1]) # add an edge between the mapped edges\n",
    "            G.remove_node(node) # remove the flowbit node\n",
    "            \n",
    "        if len(map_new_edges) == 0:\n",
    "            G.remove_node(node) # if flowbit node is terminal, it serves no purpose in complex dependencies, remove it\n",
    "            \n",
    "nx.draw_networkx(G, with_labels = True, node_size = 1000)\n",
    "plt.show()"
   ]
  },
  {
   "cell_type": "code",
   "execution_count": 204,
   "id": "f7b18644",
   "metadata": {},
   "outputs": [
    {
     "name": "stdout",
     "output_type": "stream",
     "text": [
      "CYCLE!\n"
     ]
    },
    {
     "ename": "RuntimeError",
     "evalue": "No active exception to reraise",
     "output_type": "error",
     "traceback": [
      "\u001b[0;31m---------------------------------------------------------------------------\u001b[0m",
      "\u001b[0;31mRuntimeError\u001b[0m                              Traceback (most recent call last)",
      "Cell \u001b[0;32mIn[204], line 9\u001b[0m\n\u001b[1;32m      7\u001b[0m \u001b[38;5;28mprint\u001b[39m(\u001b[38;5;124m\"\u001b[39m\u001b[38;5;124mCYCLE!\u001b[39m\u001b[38;5;124m\"\u001b[39m)\n\u001b[1;32m      8\u001b[0m \u001b[38;5;66;03m# and we exit here\u001b[39;00m\n\u001b[0;32m----> 9\u001b[0m \u001b[38;5;28;01mraise\u001b[39;00m\n",
      "\u001b[0;31mRuntimeError\u001b[0m: No active exception to reraise"
     ]
    }
   ],
   "source": [
    "# Step 5 of the solution\n",
    "# Detect cycles in the graph\n",
    "\n",
    "cycles = list(nx.simple_cycles(G)) # Get all cycles in the graph, if any\n",
    "\n",
    "if len(cycles) > 0:\n",
    "    print(\"CYCLE!\")\n",
    "    # and we exit here\n",
    "    raise"
   ]
  },
  {
   "cell_type": "code",
   "execution_count": 201,
   "id": "7e44dff3",
   "metadata": {},
   "outputs": [
    {
     "name": "stdout",
     "output_type": "stream",
     "text": [
      "Correct order of the signatures should be:\n"
     ]
    }
   ],
   "source": [
    "# Step 6 of the solution\n",
    "# At this point, we're sure that we have a DAG\n",
    "\n",
    "in_nodes = [n for n, deg in G.in_degree() if deg == 0] # nodes with no inward edges; so top of the final resolved order\n",
    "out_nodes = [n for n, deg in G.out_degree() if deg == 0] # nodes with no outward edges; so bottom of the final resolved order\n",
    "\n",
    "dummy_node = (0, 99)\n",
    "G.add_node(dummy_node)\n",
    "\n",
    "for node in in_nodes:\n",
    "    G.add_edge(dummy_node, node) # add a dummy edge to all disjoint graph's first nodes (nodes with no in edges)\n",
    "\n",
    "bfs_tree = nx.bfs_tree(G, dummy_node)\n",
    "bfs_nodes_list = list(bfs_tree.nodes())\n",
    "#print(list(bfs_nodes_list))\n",
    "\n",
    "fin_sorted_list = bfs_nodes_list[1:] # remove the dummy node; no longer needed\n",
    "\n",
    "print(\"Correct order of the signatures should be:\")\n",
    "for sig in fin_sorted_list:\n",
    "    print(\"sid: \" + str(sig[0]))\n",
    "    \n",
    "# FIN."
   ]
  },
  {
   "cell_type": "code",
   "execution_count": null,
   "id": "40b46dce",
   "metadata": {},
   "outputs": [],
   "source": []
  }
 ],
 "metadata": {
  "kernelspec": {
   "display_name": "Python 3 (ipykernel)",
   "language": "python",
   "name": "python3"
  },
  "language_info": {
   "codemirror_mode": {
    "name": "ipython",
    "version": 3
   },
   "file_extension": ".py",
   "mimetype": "text/x-python",
   "name": "python",
   "nbconvert_exporter": "python",
   "pygments_lexer": "ipython3",
   "version": "3.12.3"
  }
 },
 "nbformat": 4,
 "nbformat_minor": 5
}
